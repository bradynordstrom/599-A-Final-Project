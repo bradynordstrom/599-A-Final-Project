{
 "cells": [
  {
   "cell_type": "markdown",
   "metadata": {},
   "source": [
    "### Datasets:\n",
    "\n",
    "Here's one dataset for food prices https://www.kaggle.com/jboysen/global-food-prices\n",
    "\n",
    "Here is the dataset for temperature and rainfalls http://sdwebx.worldbank.org/climateportal/index.cfm?page=downscaled_data_download&menu=historical"
   ]
  },
  {
   "cell_type": "markdown",
   "metadata": {},
   "source": [
    "### Hypothesis: \n",
    "\n",
    "Do changes in average temperature and average level of rainfall affect the change in the average price on X crop in X country in X-X years"
   ]
  },
  {
   "cell_type": "markdown",
   "metadata": {},
   "source": [
    "### Questions to the Professor:\n",
    "\n",
    "1. How can we all access and work simultaneously in the shared Github repo (with 1 master and 3 collaborators)?"
   ]
  },
  {
   "cell_type": "markdown",
   "metadata": {},
   "source": [
    "# Cleaning the data\n",
    "coding issues- utf-8 didn't work, use iso-8859-1 instead\n",
    "## Price Dataset\n"
   ]
  },
  {
   "cell_type": "code",
   "execution_count": 28,
   "metadata": {},
   "outputs": [],
   "source": [
    "import pandas as pd\n",
    "\n",
    "CsvFile='https://raw.githubusercontent.com/vzakhozhyi/599-A-Final-Project/master/Data/wfp_market_food_prices.csv'\n",
    "##\n",
    "dataCsv=pd.read_csv(CsvFile,header=0, encoding = \"ISO-8859-1\")"
   ]
  },
  {
   "cell_type": "code",
   "execution_count": null,
   "metadata": {},
   "outputs": [],
   "source": [
    "dataCsv.info()"
   ]
  },
  {
   "cell_type": "code",
   "execution_count": 3,
   "metadata": {},
   "outputs": [
    {
     "data": {
      "text/plain": [
       "array(['Afghanistan', 'Algeria', 'Armenia', 'Azerbaijan', 'Bangladesh',\n",
       "       'Benin', 'Bhutan', 'Bolivia', 'Burkina Faso', 'Burundi',\n",
       "       'Cambodia', 'Cameroon', 'Cape Verde', 'Central African Republic',\n",
       "       'Chad', 'Colombia', 'Congo', 'Costa Rica', \"Cote d'Ivoire\",\n",
       "       'Democratic Republic of the Congo', 'Djibouti', 'El Salvador',\n",
       "       'Ethiopia', 'Gambia', 'Georgia', 'Ghana', 'Guatemala',\n",
       "       'Guinea-Bissau', 'Guinea', 'Haiti', 'Honduras', 'India',\n",
       "       'Indonesia', 'Iran  (Islamic Republic of)', 'Iraq', 'Jordan',\n",
       "       'Kenya', 'Kyrgyzstan', \"Lao People's Democratic Republic\",\n",
       "       'Lebanon', 'Lesotho', 'Liberia', 'Madagascar', 'Malawi', 'Mali',\n",
       "       'Mauritania', 'Mozambique', 'Myanmar', 'Nepal', 'Niger', 'Nigeria',\n",
       "       'Pakistan', 'Panama', 'Peru', 'Philippines', 'Rwanda', 'Senegal',\n",
       "       'Somalia', 'Sri Lanka', 'Swaziland', 'Syrian Arab Republic',\n",
       "       'Tajikistan', 'Timor-Leste', 'Turkey', 'Uganda', 'Ukraine',\n",
       "       'United Republic of Tanzania', 'Yemen', 'Zambia', 'Zimbabwe',\n",
       "       'State of Palestine', 'Sudan', 'Egypt', 'South Sudan'],\n",
       "      dtype=object)"
      ]
     },
     "execution_count": 3,
     "metadata": {},
     "output_type": "execute_result"
    }
   ],
   "source": [
    "dataCsv.adm0_name.unique()"
   ]
  },
  {
   "cell_type": "code",
   "execution_count": 29,
   "metadata": {},
   "outputs": [],
   "source": [
    "#CountryWeWant = ['Cambodia', \"Lao People's Democratic Republic\", 'Myanmar']"
   ]
  },
  {
   "cell_type": "code",
   "execution_count": 4,
   "metadata": {},
   "outputs": [],
   "source": [
    "TargetCountry = ['Bolivia', \"Peru\", 'Colombia']\n",
    "TargetCrop = [\"Potatoes\",\"Potatoes (Dutch)\"]"
   ]
  },
  {
   "cell_type": "markdown",
   "metadata": {},
   "source": [
    "Let's see what we have."
   ]
  },
  {
   "cell_type": "code",
   "execution_count": 19,
   "metadata": {},
   "outputs": [],
   "source": [
    "#dataCsv.head"
   ]
  },
  {
   "cell_type": "code",
   "execution_count": 18,
   "metadata": {
    "scrolled": false
   },
   "outputs": [],
   "source": [
    "#dataCsv.tail"
   ]
  },
  {
   "cell_type": "markdown",
   "metadata": {},
   "source": [
    "#pd.unique(demodexClean.Category).tolist()"
   ]
  },
  {
   "cell_type": "code",
   "execution_count": 33,
   "metadata": {},
   "outputs": [],
   "source": [
    "#price = dataCsv[adm0_name == 'Afghanistan']"
   ]
  },
  {
   "cell_type": "code",
   "execution_count": 54,
   "metadata": {},
   "outputs": [],
   "source": [
    "#dataCsv.query(adm0_name)"
   ]
  },
  {
   "cell_type": "code",
   "execution_count": 6,
   "metadata": {},
   "outputs": [],
   "source": [
    "Price = dataCsv[dataCsv.adm0_name.isin(TargetCountry)]"
   ]
  },
  {
   "cell_type": "code",
   "execution_count": null,
   "metadata": {},
   "outputs": [],
   "source": [
    "Price[Price.cm_name.isin(TargetCrop)]"
   ]
  },
  {
   "cell_type": "markdown",
   "metadata": {},
   "source": [
    "See unique values of crops of each country."
   ]
  },
  {
   "cell_type": "code",
   "execution_count": 7,
   "metadata": {},
   "outputs": [
    {
     "data": {
      "text/plain": [
       "array(['Eggs', 'Sugar', 'Meat (beef, chops with bones)',\n",
       "       'Meat (chicken, whole)', 'Noodles (short)', 'Potatoes (Dutch)',\n",
       "       'Potatoes (Irish, imilla)', 'Rice (estaquilla)',\n",
       "       'Rice (long grain)', 'Bread (wheat)', 'Rice (good quality)',\n",
       "       'Rice (white)', 'Rice (carolina 2da)', 'Rice (medium grain)',\n",
       "       'Potatoes (black)'], dtype=object)"
      ]
     },
     "execution_count": 7,
     "metadata": {},
     "output_type": "execute_result"
    }
   ],
   "source": [
    "Price[(Price.adm0_name=='Bolivia')].cm_name.unique()"
   ]
  },
  {
   "cell_type": "code",
   "execution_count": 8,
   "metadata": {},
   "outputs": [
    {
     "data": {
      "text/plain": [
       "array(['Maize (local)', 'Rice (local)', 'Potatoes', 'Meat (chicken)',\n",
       "       'Oil (vegetable)', 'Sugar', 'Wheat flour (locally processed)'],\n",
       "      dtype=object)"
      ]
     },
     "execution_count": 8,
     "metadata": {},
     "output_type": "execute_result"
    }
   ],
   "source": [
    "Price[(Price.adm0_name== \"Peru\")].cm_name.unique()"
   ]
  },
  {
   "cell_type": "code",
   "execution_count": 9,
   "metadata": {},
   "outputs": [
    {
     "data": {
      "text/plain": [
       "array(['Wheat flour', 'Maize (white)', 'Maize flour', 'Beans (red)',\n",
       "       'Potatoes', 'Meat (chicken)', 'Oil (vegetable)', 'Sugar', 'Garlic',\n",
       "       'Onions (red)', 'Onions (white)', 'Pasta', 'Tomatoes',\n",
       "       'Rice (white)', 'Maize (yellow)', 'Meat (beef)', 'Plantains',\n",
       "       'Cocoa', 'Coffee', 'Carrots', 'Fish (dry)', 'Cabbage', 'Salt',\n",
       "       'Rice (paddy)', 'Chickpeas (imported)', 'Eggs (white, AA)',\n",
       "       'Meat (beef, minced)', 'Peas (green, dry)', 'Potatoes (unica)',\n",
       "       'Sugar (brown)', 'Sugar (brown, loaf)', 'Apples (red)',\n",
       "       'Cauliflower', 'Cucumbers (greenhouse)', 'Oranges (big size)',\n",
       "       'Bananas', 'Beans (red, fresh)', 'Fuel (diesel)',\n",
       "       'Fuel (petrol-gasoline)', 'Cassava (dry)', 'Spinach',\n",
       "       'Fish (tilapia)', 'Beans (string)', 'Guava', 'Papaya',\n",
       "       'Blackberry', 'Broccoli', 'Mangoes', 'Pumpkin',\n",
       "       'Tamarillos/tree tomatoes', 'Cheese', 'Lentils (imported)',\n",
       "       'Milk (pasteurized)',\n",
       "       'Wage (non-qualified labour, non-agricultural)', 'Meat (pork)',\n",
       "       'Coffee (instant)', 'Oil (sunflower)'], dtype=object)"
      ]
     },
     "execution_count": 9,
     "metadata": {},
     "output_type": "execute_result"
    }
   ],
   "source": [
    "Price[(Price.adm0_name== 'Colombia')].cm_name.unique()"
   ]
  },
  {
   "cell_type": "code",
   "execution_count": 10,
   "metadata": {},
   "outputs": [],
   "source": [
    "# This is what we want get rid of:\n",
    "ByeColumns = ['adm0_id', 'adm1_id','mkt_id','cm_id','cur_id','pt_id','um_id']#,'mp_commoditysource']\n",
    "\n",
    "#this would change the original: GhanaYamPrice.drop(byeColumns,axis=1,inplace=False)\n",
    "Price=Price.drop(ByeColumns,axis=1, inplace=False).reset_index(drop=True)\n"
   ]
  },
  {
   "cell_type": "markdown",
   "metadata": {},
   "source": [
    "Unified the name of potatoes."
   ]
  },
  {
   "cell_type": "code",
   "execution_count": null,
   "metadata": {},
   "outputs": [],
   "source": []
  },
  {
   "cell_type": "markdown",
   "metadata": {},
   "source": [
    "Average price by country."
   ]
  },
  {
   "cell_type": "code",
   "execution_count": null,
   "metadata": {},
   "outputs": [],
   "source": []
  },
  {
   "cell_type": "markdown",
   "metadata": {},
   "source": [
    "Saving files to R:"
   ]
  },
  {
   "cell_type": "code",
   "execution_count": 12,
   "metadata": {},
   "outputs": [],
   "source": [
    "Price.to_csv(\"Price.csv\",index=None)"
   ]
  },
  {
   "cell_type": "markdown",
   "metadata": {},
   "source": [
    "## Temperature Data"
   ]
  },
  {
   "cell_type": "code",
   "execution_count": 29,
   "metadata": {},
   "outputs": [],
   "source": [
    "Temps = [\"Temp\" + \"_\" +str(country)  for country in TargetCountry]\n",
    "Rainfalls = [\"Rainfall\" + \"_\" +str(country)  for country in TargetCountry ]\n",
    "LinkTemps = [\"https://github.com/vzakhozhyi/599-A-Final-Project/blob/master/Data/\"+str(country)+\".xls?raw=true\" for country in Temps]\n",
    "LinkRainfalls = [\"https://github.com/vzakhozhyi/599-A-Final-Project/blob/master/Data/\"+str(country)+\".xls?raw=true\" for country in Rainfalls]"
   ]
  },
  {
   "cell_type": "code",
   "execution_count": 30,
   "metadata": {},
   "outputs": [
    {
     "data": {
      "text/plain": [
       "(['Temp_Bolivia', 'Temp_Peru', 'Temp_Colombia'],\n",
       " ['Rainfall_Bolivia', 'Rainfall_Peru', 'Rainfall_Colombia'],\n",
       " ['https://github.com/vzakhozhyi/599-A-Final-Project/blob/master/Data/Temp_Bolivia.xls?raw=true',\n",
       "  'https://github.com/vzakhozhyi/599-A-Final-Project/blob/master/Data/Temp_Peru.xls?raw=true',\n",
       "  'https://github.com/vzakhozhyi/599-A-Final-Project/blob/master/Data/Temp_Colombia.xls?raw=true'],\n",
       " ['https://github.com/vzakhozhyi/599-A-Final-Project/blob/master/Data/Rainfall_Bolivia.xls?raw=true',\n",
       "  'https://github.com/vzakhozhyi/599-A-Final-Project/blob/master/Data/Rainfall_Peru.xls?raw=true',\n",
       "  'https://github.com/vzakhozhyi/599-A-Final-Project/blob/master/Data/Rainfall_Colombia.xls?raw=true'])"
      ]
     },
     "execution_count": 30,
     "metadata": {},
     "output_type": "execute_result"
    }
   ],
   "source": [
    "Temps, Rainfalls, LinkTemps, LinkRainfalls"
   ]
  },
  {
   "cell_type": "code",
   "execution_count": 31,
   "metadata": {},
   "outputs": [],
   "source": [
    "TempData = []\n",
    "RainfallData = []\n",
    "\n",
    "n = 0\n",
    "k = 0\n",
    "\n",
    "for i in LinkTemps:\n",
    "    df1 = pd.read_excel(i)\n",
    "    TempData.append(df1)\n",
    "\n",
    "for j in LinkRainfalls:\n",
    "    df2 = pd.read_excel(j)\n",
    "    RainfallData.append(df2)\n",
    "    \n",
    "    "
   ]
  },
  {
   "cell_type": "markdown",
   "metadata": {},
   "source": [
    "Here is the temp data:"
   ]
  },
  {
   "cell_type": "code",
   "execution_count": 39,
   "metadata": {},
   "outputs": [
    {
     "data": {
      "text/plain": [
       "[         tas  \\tYear   Month  Country   ISO3   ISO2\n",
       " 0    23.3426    1991       1      BOL    NaN    NaN\n",
       " 1    23.1225    1991       2      BOL    NaN    NaN\n",
       " 2    22.4283    1991       3      BOL    NaN    NaN\n",
       " 3    21.2055    1991       4      BOL    NaN    NaN\n",
       " 4    19.9238    1991       5      BOL    NaN    NaN\n",
       " 5    18.2097    1991       6      BOL    NaN    NaN\n",
       " 6    17.7880    1991       7      BOL    NaN    NaN\n",
       " 7    19.2964    1991       8      BOL    NaN    NaN\n",
       " 8    21.4351    1991       9      BOL    NaN    NaN\n",
       " 9    22.0184    1991      10      BOL    NaN    NaN\n",
       " 10   22.5688    1991      11      BOL    NaN    NaN\n",
       " 11   23.1559    1991      12      BOL    NaN    NaN\n",
       " 12   22.1763    1992       1      BOL    NaN    NaN\n",
       " 13   22.3409    1992       2      BOL    NaN    NaN\n",
       " 14   21.6967    1992       3      BOL    NaN    NaN\n",
       " 15   20.9250    1992       4      BOL    NaN    NaN\n",
       " 16   20.4805    1992       5      BOL    NaN    NaN\n",
       " 17   18.7640    1992       6      BOL    NaN    NaN\n",
       " 18   16.4989    1992       7      BOL    NaN    NaN\n",
       " 19   18.4649    1992       8      BOL    NaN    NaN\n",
       " 20   20.1317    1992       9      BOL    NaN    NaN\n",
       " 21   21.9969    1992      10      BOL    NaN    NaN\n",
       " 22   21.9721    1992      11      BOL    NaN    NaN\n",
       " 23   22.5965    1992      12      BOL    NaN    NaN\n",
       " 24   22.3915    1993       1      BOL    NaN    NaN\n",
       " 25   21.9723    1993       2      BOL    NaN    NaN\n",
       " 26   21.8815    1993       3      BOL    NaN    NaN\n",
       " 27   21.3656    1993       4      BOL    NaN    NaN\n",
       " 28   19.1477    1993       5      BOL    NaN    NaN\n",
       " 29   18.1951    1993       6      BOL    NaN    NaN\n",
       " ..       ...     ...     ...      ...    ...    ...\n",
       " 270  17.6383    2013       7      BOL    NaN    NaN\n",
       " 271  17.5042    2013       8      BOL    NaN    NaN\n",
       " 272  20.5285    2013       9      BOL    NaN    NaN\n",
       " 273  21.5480    2013      10      BOL    NaN    NaN\n",
       " 274  22.3415    2013      11      BOL    NaN    NaN\n",
       " 275  22.7411    2013      12      BOL    NaN    NaN\n",
       " 276  21.7372    2014       1      BOL    NaN    NaN\n",
       " 277  21.7151    2014       2      BOL    NaN    NaN\n",
       " 278  21.5648    2014       3      BOL    NaN    NaN\n",
       " 279  21.4202    2014       4      BOL    NaN    NaN\n",
       " 280  19.0185    2014       5      BOL    NaN    NaN\n",
       " 281  18.8967    2014       6      BOL    NaN    NaN\n",
       " 282  17.4313    2014       7      BOL    NaN    NaN\n",
       " 283  19.9879    2014       8      BOL    NaN    NaN\n",
       " 284  22.7344    2014       9      BOL    NaN    NaN\n",
       " 285  23.2739    2014      10      BOL    NaN    NaN\n",
       " 286  24.1528    2014      11      BOL    NaN    NaN\n",
       " 287  23.3578    2014      12      BOL    NaN    NaN\n",
       " 288  22.8332    2015       1      BOL    NaN    NaN\n",
       " 289  22.3247    2015       2      BOL    NaN    NaN\n",
       " 290  22.9973    2015       3      BOL    NaN    NaN\n",
       " 291  21.8676    2015       4      BOL    NaN    NaN\n",
       " 292  19.2114    2015       5      BOL    NaN    NaN\n",
       " 293  18.6443    2015       6      BOL    NaN    NaN\n",
       " 294  18.9004    2015       7      BOL    NaN    NaN\n",
       " 295  20.3627    2015       8      BOL    NaN    NaN\n",
       " 296  23.3172    2015       9      BOL    NaN    NaN\n",
       " 297  22.4625    2015      10      BOL    NaN    NaN\n",
       " 298  23.0985    2015      11      BOL    NaN    NaN\n",
       " 299  23.4787    2015      12      BOL    NaN    NaN\n",
       " \n",
       " [300 rows x 6 columns],          tas  \\tYear   Month  Country   ISO3   ISO2\n",
       " 0    19.9068    1991       1      PER    NaN    NaN\n",
       " 1    20.1518    1991       2      PER    NaN    NaN\n",
       " 2    20.1453    1991       3      PER    NaN    NaN\n",
       " 3    20.0942    1991       4      PER    NaN    NaN\n",
       " 4    19.5744    1991       5      PER    NaN    NaN\n",
       " 5    18.8246    1991       6      PER    NaN    NaN\n",
       " 6    18.2285    1991       7      PER    NaN    NaN\n",
       " 7    17.9892    1991       8      PER    NaN    NaN\n",
       " 8    19.3474    1991       9      PER    NaN    NaN\n",
       " 9    19.6034    1991      10      PER    NaN    NaN\n",
       " 10   19.8240    1991      11      PER    NaN    NaN\n",
       " 11   20.4750    1991      12      PER    NaN    NaN\n",
       " 12   20.9506    1992       1      PER    NaN    NaN\n",
       " 13   20.7916    1992       2      PER    NaN    NaN\n",
       " 14   20.9657    1992       3      PER    NaN    NaN\n",
       " 15   20.8950    1992       4      PER    NaN    NaN\n",
       " 16   20.6799    1992       5      PER    NaN    NaN\n",
       " 17   19.2458    1992       6      PER    NaN    NaN\n",
       " 18   17.6862    1992       7      PER    NaN    NaN\n",
       " 19   18.7134    1992       8      PER    NaN    NaN\n",
       " 20   18.8314    1992       9      PER    NaN    NaN\n",
       " 21   19.5663    1992      10      PER    NaN    NaN\n",
       " 22   19.8571    1992      11      PER    NaN    NaN\n",
       " 23   19.7845    1992      12      PER    NaN    NaN\n",
       " 24   19.9418    1993       1      PER    NaN    NaN\n",
       " 25   20.2341    1993       2      PER    NaN    NaN\n",
       " 26   20.1286    1993       3      PER    NaN    NaN\n",
       " 27   19.9520    1993       4      PER    NaN    NaN\n",
       " 28   19.7486    1993       5      PER    NaN    NaN\n",
       " 29   19.0334    1993       6      PER    NaN    NaN\n",
       " ..       ...     ...     ...      ...    ...    ...\n",
       " 270  17.8101    2013       7      PER    NaN    NaN\n",
       " 271  18.2066    2013       8      PER    NaN    NaN\n",
       " 272  19.5468    2013       9      PER    NaN    NaN\n",
       " 273  19.6918    2013      10      PER    NaN    NaN\n",
       " 274  19.9322    2013      11      PER    NaN    NaN\n",
       " 275  20.2307    2013      12      PER    NaN    NaN\n",
       " 276  20.2443    2014       1      PER    NaN    NaN\n",
       " 277  20.0607    2014       2      PER    NaN    NaN\n",
       " 278  19.9140    2014       3      PER    NaN    NaN\n",
       " 279  19.7868    2014       4      PER    NaN    NaN\n",
       " 280  19.9366    2014       5      PER    NaN    NaN\n",
       " 281  19.4495    2014       6      PER    NaN    NaN\n",
       " 282  18.4419    2014       7      PER    NaN    NaN\n",
       " 283  18.7700    2014       8      PER    NaN    NaN\n",
       " 284  19.6347    2014       9      PER    NaN    NaN\n",
       " 285  19.9489    2014      10      PER    NaN    NaN\n",
       " 286  20.3996    2014      11      PER    NaN    NaN\n",
       " 287  20.1064    2014      12      PER    NaN    NaN\n",
       " 288  19.8736    2015       1      PER    NaN    NaN\n",
       " 289  20.5103    2015       2      PER    NaN    NaN\n",
       " 290  20.2532    2015       3      PER    NaN    NaN\n",
       " 291  20.0185    2015       4      PER    NaN    NaN\n",
       " 292  20.0984    2015       5      PER    NaN    NaN\n",
       " 293  19.7564    2015       6      PER    NaN    NaN\n",
       " 294  19.0715    2015       7      PER    NaN    NaN\n",
       " 295  20.1966    2015       8      PER    NaN    NaN\n",
       " 296  20.8076    2015       9      PER    NaN    NaN\n",
       " 297  20.8017    2015      10      PER    NaN    NaN\n",
       " 298  21.0716    2015      11      PER    NaN    NaN\n",
       " 299  20.7846    2015      12      PER    NaN    NaN\n",
       " \n",
       " [300 rows x 6 columns],          tas  \\tYear   Month  Country   ISO3   ISO2\n",
       " 0    24.7998    1991       1      COL    NaN    NaN\n",
       " 1    25.4462    1991       2      COL    NaN    NaN\n",
       " 2    25.3374    1991       3      COL    NaN    NaN\n",
       " 3    25.1686    1991       4      COL    NaN    NaN\n",
       " 4    24.7907    1991       5      COL    NaN    NaN\n",
       " 5    24.4658    1991       6      COL    NaN    NaN\n",
       " 6    23.7821    1991       7      COL    NaN    NaN\n",
       " 7    23.3523    1991       8      COL    NaN    NaN\n",
       " 8    24.3780    1991       9      COL    NaN    NaN\n",
       " 9    24.1658    1991      10      COL    NaN    NaN\n",
       " 10   24.2287    1991      11      COL    NaN    NaN\n",
       " 11   24.6322    1991      12      COL    NaN    NaN\n",
       " 12   24.9539    1992       1      COL    NaN    NaN\n",
       " 13   25.5501    1992       2      COL    NaN    NaN\n",
       " 14   25.8193    1992       3      COL    NaN    NaN\n",
       " 15   25.3115    1992       4      COL    NaN    NaN\n",
       " 16   24.5012    1992       5      COL    NaN    NaN\n",
       " 17   24.6022    1992       6      COL    NaN    NaN\n",
       " 18   24.1308    1992       7      COL    NaN    NaN\n",
       " 19   24.1319    1992       8      COL    NaN    NaN\n",
       " 20   24.0576    1992       9      COL    NaN    NaN\n",
       " 21   24.2185    1992      10      COL    NaN    NaN\n",
       " 22   24.2610    1992      11      COL    NaN    NaN\n",
       " 23   24.5694    1992      12      COL    NaN    NaN\n",
       " 24   24.8642    1993       1      COL    NaN    NaN\n",
       " 25   25.1395    1993       2      COL    NaN    NaN\n",
       " 26   25.1130    1993       3      COL    NaN    NaN\n",
       " 27   24.8708    1993       4      COL    NaN    NaN\n",
       " 28   24.1999    1993       5      COL    NaN    NaN\n",
       " 29   24.2923    1993       6      COL    NaN    NaN\n",
       " ..       ...     ...     ...      ...    ...    ...\n",
       " 270  23.9021    2013       7      COL    NaN    NaN\n",
       " 271  24.1021    2013       8      COL    NaN    NaN\n",
       " 272  24.7462    2013       9      COL    NaN    NaN\n",
       " 273  24.4653    2013      10      COL    NaN    NaN\n",
       " 274  24.4336    2013      11      COL    NaN    NaN\n",
       " 275  24.4593    2013      12      COL    NaN    NaN\n",
       " 276  25.1261    2014       1      COL    NaN    NaN\n",
       " 277  25.2698    2014       2      COL    NaN    NaN\n",
       " 278  25.4366    2014       3      COL    NaN    NaN\n",
       " 279  25.1698    2014       4      COL    NaN    NaN\n",
       " 280  24.6618    2014       5      COL    NaN    NaN\n",
       " 281  24.3481    2014       6      COL    NaN    NaN\n",
       " 282  24.6022    2014       7      COL    NaN    NaN\n",
       " 283  24.3146    2014       8      COL    NaN    NaN\n",
       " 284  24.8254    2014       9      COL    NaN    NaN\n",
       " 285  24.5443    2014      10      COL    NaN    NaN\n",
       " 286  24.6317    2014      11      COL    NaN    NaN\n",
       " 287  24.6787    2014      12      COL    NaN    NaN\n",
       " 288  24.8799    2015       1      COL    NaN    NaN\n",
       " 289  25.6278    2015       2      COL    NaN    NaN\n",
       " 290  25.3505    2015       3      COL    NaN    NaN\n",
       " 291  25.1700    2015       4      COL    NaN    NaN\n",
       " 292  25.0442    2015       5      COL    NaN    NaN\n",
       " 293  24.7595    2015       6      COL    NaN    NaN\n",
       " 294  24.6182    2015       7      COL    NaN    NaN\n",
       " 295  25.0313    2015       8      COL    NaN    NaN\n",
       " 296  25.3662    2015       9      COL    NaN    NaN\n",
       " 297  25.3983    2015      10      COL    NaN    NaN\n",
       " 298  25.4995    2015      11      COL    NaN    NaN\n",
       " 299  25.4533    2015      12      COL    NaN    NaN\n",
       " \n",
       " [300 rows x 6 columns]]"
      ]
     },
     "execution_count": 39,
     "metadata": {},
     "output_type": "execute_result"
    }
   ],
   "source": [
    "TempData"
   ]
  },
  {
   "cell_type": "code",
   "execution_count": 42,
   "metadata": {},
   "outputs": [
    {
     "data": {
      "text/plain": [
       "list"
      ]
     },
     "execution_count": 42,
     "metadata": {},
     "output_type": "execute_result"
    }
   ],
   "source": [
    "TempData = pd.as(TempData)"
   ]
  },
  {
   "cell_type": "code",
   "execution_count": 40,
   "metadata": {},
   "outputs": [
    {
     "ename": "AttributeError",
     "evalue": "'list' object has no attribute 'Month'",
     "output_type": "error",
     "traceback": [
      "\u001b[1;31m---------------------------------------------------------------------------\u001b[0m",
      "\u001b[1;31mAttributeError\u001b[0m                            Traceback (most recent call last)",
      "\u001b[1;32m<ipython-input-40-ee37c6318fcb>\u001b[0m in \u001b[0;36m<module>\u001b[1;34m\u001b[0m\n\u001b[1;32m----> 1\u001b[1;33m \u001b[0mTempData\u001b[0m\u001b[1;33m[\u001b[0m\u001b[0mTempData\u001b[0m\u001b[1;33m.\u001b[0m\u001b[0mMonth\u001b[0m\u001b[1;33m==\u001b[0m\u001b[1;36m1\u001b[0m\u001b[1;33m]\u001b[0m\u001b[1;33m\u001b[0m\u001b[1;33m\u001b[0m\u001b[0m\n\u001b[0m",
      "\u001b[1;31mAttributeError\u001b[0m: 'list' object has no attribute 'Month'"
     ]
    }
   ],
   "source": [
    "TempData[TempData.Month==1]"
   ]
  },
  {
   "cell_type": "code",
   "execution_count": 33,
   "metadata": {},
   "outputs": [
    {
     "data": {
      "text/plain": [
       "[            pr  \\tYear   Month  Country   ISO3   ISO2\n",
       " 0    209.90400    1991       1      BOL    NaN    NaN\n",
       " 1    165.21000    1991       2      BOL    NaN    NaN\n",
       " 2    166.84700    1991       3      BOL    NaN    NaN\n",
       " 3     85.99840    1991       4      BOL    NaN    NaN\n",
       " 4     49.60090    1991       5      BOL    NaN    NaN\n",
       " 5     47.32130    1991       6      BOL    NaN    NaN\n",
       " 6     19.88850    1991       7      BOL    NaN    NaN\n",
       " 7      8.16148    1991       8      BOL    NaN    NaN\n",
       " 8     47.95680    1991       9      BOL    NaN    NaN\n",
       " 9     79.60350    1991      10      BOL    NaN    NaN\n",
       " 10   114.01300    1991      11      BOL    NaN    NaN\n",
       " 11   111.58800    1991      12      BOL    NaN    NaN\n",
       " 12   186.88300    1992       1      BOL    NaN    NaN\n",
       " 13   131.20400    1992       2      BOL    NaN    NaN\n",
       " 14   155.87000    1992       3      BOL    NaN    NaN\n",
       " 15    88.35530    1992       4      BOL    NaN    NaN\n",
       " 16    58.82030    1992       5      BOL    NaN    NaN\n",
       " 17    46.41200    1992       6      BOL    NaN    NaN\n",
       " 18    27.76540    1992       7      BOL    NaN    NaN\n",
       " 19    61.41150    1992       8      BOL    NaN    NaN\n",
       " 20    60.20360    1992       9      BOL    NaN    NaN\n",
       " 21   109.50100    1992      10      BOL    NaN    NaN\n",
       " 22   129.31800    1992      11      BOL    NaN    NaN\n",
       " 23   123.69000    1992      12      BOL    NaN    NaN\n",
       " 24   243.79900    1993       1      BOL    NaN    NaN\n",
       " 25   111.17500    1993       2      BOL    NaN    NaN\n",
       " 26   147.96800    1993       3      BOL    NaN    NaN\n",
       " 27    64.30880    1993       4      BOL    NaN    NaN\n",
       " 28    28.93670    1993       5      BOL    NaN    NaN\n",
       " 29    14.50230    1993       6      BOL    NaN    NaN\n",
       " ..         ...     ...     ...      ...    ...    ...\n",
       " 270    8.10500    2013       7      BOL    NaN    NaN\n",
       " 271   25.65330    2013       8      BOL    NaN    NaN\n",
       " 272   43.11240    2013       9      BOL    NaN    NaN\n",
       " 273  115.41200    2013      10      BOL    NaN    NaN\n",
       " 274  124.43400    2013      11      BOL    NaN    NaN\n",
       " 275  176.86500    2013      12      BOL    NaN    NaN\n",
       " 276  258.94700    2014       1      BOL    NaN    NaN\n",
       " 277  212.88200    2014       2      BOL    NaN    NaN\n",
       " 278  193.64600    2014       3      BOL    NaN    NaN\n",
       " 279   74.63690    2014       4      BOL    NaN    NaN\n",
       " 280   63.21620    2014       5      BOL    NaN    NaN\n",
       " 281   27.83580    2014       6      BOL    NaN    NaN\n",
       " 282   27.27870    2014       7      BOL    NaN    NaN\n",
       " 283   15.81190    2014       8      BOL    NaN    NaN\n",
       " 284   48.35210    2014       9      BOL    NaN    NaN\n",
       " 285   40.61980    2014      10      BOL    NaN    NaN\n",
       " 286  111.40900    2014      11      BOL    NaN    NaN\n",
       " 287   87.43710    2014      12      BOL    NaN    NaN\n",
       " 288  188.35200    2015       1      BOL    NaN    NaN\n",
       " 289  191.45700    2015       2      BOL    NaN    NaN\n",
       " 290  142.02900    2015       3      BOL    NaN    NaN\n",
       " 291  112.32200    2015       4      BOL    NaN    NaN\n",
       " 292  103.16100    2015       5      BOL    NaN    NaN\n",
       " 293   28.89860    2015       6      BOL    NaN    NaN\n",
       " 294   58.26810    2015       7      BOL    NaN    NaN\n",
       " 295   20.43510    2015       8      BOL    NaN    NaN\n",
       " 296   43.78800    2015       9      BOL    NaN    NaN\n",
       " 297   54.58650    2015      10      BOL    NaN    NaN\n",
       " 298   89.38320    2015      11      BOL    NaN    NaN\n",
       " 299   88.48570    2015      12      BOL    NaN    NaN\n",
       " \n",
       " [300 rows x 6 columns],            pr  \\tYear   Month  Country   ISO3   ISO2\n",
       " 0    110.7720    1991       1      PER    NaN    NaN\n",
       " 1    149.8710    1991       2      PER    NaN    NaN\n",
       " 2    180.9780    1991       3      PER    NaN    NaN\n",
       " 3    113.0370    1991       4      PER    NaN    NaN\n",
       " 4    122.3220    1991       5      PER    NaN    NaN\n",
       " 5    104.7460    1991       6      PER    NaN    NaN\n",
       " 6     35.2588    1991       7      PER    NaN    NaN\n",
       " 7     51.8483    1991       8      PER    NaN    NaN\n",
       " 8     88.4582    1991       9      PER    NaN    NaN\n",
       " 9     98.1672    1991      10      PER    NaN    NaN\n",
       " 10   142.3550    1991      11      PER    NaN    NaN\n",
       " 11   103.6000    1991      12      PER    NaN    NaN\n",
       " 12   108.7610    1992       1      PER    NaN    NaN\n",
       " 13   128.3800    1992       2      PER    NaN    NaN\n",
       " 14   157.7920    1992       3      PER    NaN    NaN\n",
       " 15   112.8990    1992       4      PER    NaN    NaN\n",
       " 16    55.7750    1992       5      PER    NaN    NaN\n",
       " 17    57.1915    1992       6      PER    NaN    NaN\n",
       " 18    68.9449    1992       7      PER    NaN    NaN\n",
       " 19   106.4590    1992       8      PER    NaN    NaN\n",
       " 20   125.3000    1992       9      PER    NaN    NaN\n",
       " 21   103.7470    1992      10      PER    NaN    NaN\n",
       " 22   129.0480    1992      11      PER    NaN    NaN\n",
       " 23   155.4120    1992      12      PER    NaN    NaN\n",
       " 24   255.5960    1993       1      PER    NaN    NaN\n",
       " 25   143.0690    1993       2      PER    NaN    NaN\n",
       " 26   208.5180    1993       3      PER    NaN    NaN\n",
       " 27   184.8360    1993       4      PER    NaN    NaN\n",
       " 28   103.7290    1993       5      PER    NaN    NaN\n",
       " 29    59.8479    1993       6      PER    NaN    NaN\n",
       " ..        ...     ...     ...      ...    ...    ...\n",
       " 270   75.5839    2013       7      PER    NaN    NaN\n",
       " 271   78.4017    2013       8      PER    NaN    NaN\n",
       " 272   74.5302    2013       9      PER    NaN    NaN\n",
       " 273  145.3160    2013      10      PER    NaN    NaN\n",
       " 274  143.2180    2013      11      PER    NaN    NaN\n",
       " 275  152.0900    2013      12      PER    NaN    NaN\n",
       " 276  159.0640    2014       1      PER    NaN    NaN\n",
       " 277  149.2600    2014       2      PER    NaN    NaN\n",
       " 278  193.8480    2014       3      PER    NaN    NaN\n",
       " 279  172.6720    2014       4      PER    NaN    NaN\n",
       " 280   91.7503    2014       5      PER    NaN    NaN\n",
       " 281   74.1397    2014       6      PER    NaN    NaN\n",
       " 282   71.6753    2014       7      PER    NaN    NaN\n",
       " 283   77.6913    2014       8      PER    NaN    NaN\n",
       " 284   83.2653    2014       9      PER    NaN    NaN\n",
       " 285  108.8530    2014      10      PER    NaN    NaN\n",
       " 286  127.2600    2014      11      PER    NaN    NaN\n",
       " 287  174.0690    2014      12      PER    NaN    NaN\n",
       " 288  154.3840    2015       1      PER    NaN    NaN\n",
       " 289  182.3060    2015       2      PER    NaN    NaN\n",
       " 290  187.5390    2015       3      PER    NaN    NaN\n",
       " 291  179.8370    2015       4      PER    NaN    NaN\n",
       " 292  109.1790    2015       5      PER    NaN    NaN\n",
       " 293   68.5707    2015       6      PER    NaN    NaN\n",
       " 294  102.3850    2015       7      PER    NaN    NaN\n",
       " 295   58.2170    2015       8      PER    NaN    NaN\n",
       " 296   57.6487    2015       9      PER    NaN    NaN\n",
       " 297   64.1029    2015      10      PER    NaN    NaN\n",
       " 298   99.1171    2015      11      PER    NaN    NaN\n",
       " 299  151.3360    2015      12      PER    NaN    NaN\n",
       " \n",
       " [300 rows x 6 columns],            pr  \\tYear   Month  Country   ISO3   ISO2\n",
       " 0     56.1426    1991       1      COL    NaN    NaN\n",
       " 1     83.2545    1991       2      COL    NaN    NaN\n",
       " 2    220.2360    1991       3      COL    NaN    NaN\n",
       " 3    209.4310    1991       4      COL    NaN    NaN\n",
       " 4    234.1020    1991       5      COL    NaN    NaN\n",
       " 5    238.5100    1991       6      COL    NaN    NaN\n",
       " 6    223.8870    1991       7      COL    NaN    NaN\n",
       " 7    200.3270    1991       8      COL    NaN    NaN\n",
       " 8    188.0760    1991       9      COL    NaN    NaN\n",
       " 9    150.8850    1991      10      COL    NaN    NaN\n",
       " 10   188.0560    1991      11      COL    NaN    NaN\n",
       " 11    93.5771    1991      12      COL    NaN    NaN\n",
       " 12    59.9233    1992       1      COL    NaN    NaN\n",
       " 13    86.4726    1992       2      COL    NaN    NaN\n",
       " 14   113.8630    1992       3      COL    NaN    NaN\n",
       " 15   202.7130    1992       4      COL    NaN    NaN\n",
       " 16   223.4910    1992       5      COL    NaN    NaN\n",
       " 17   204.4660    1992       6      COL    NaN    NaN\n",
       " 18   235.4130    1992       7      COL    NaN    NaN\n",
       " 19   235.4210    1992       8      COL    NaN    NaN\n",
       " 20   222.8440    1992       9      COL    NaN    NaN\n",
       " 21   156.2300    1992      10      COL    NaN    NaN\n",
       " 22   182.0250    1992      11      COL    NaN    NaN\n",
       " 23   148.5850    1992      12      COL    NaN    NaN\n",
       " 24   146.5230    1993       1      COL    NaN    NaN\n",
       " 25   119.3580    1993       2      COL    NaN    NaN\n",
       " 26   213.0440    1993       3      COL    NaN    NaN\n",
       " 27   268.1350    1993       4      COL    NaN    NaN\n",
       " 28   289.3320    1993       5      COL    NaN    NaN\n",
       " 29   194.5360    1993       6      COL    NaN    NaN\n",
       " ..        ...     ...     ...      ...    ...    ...\n",
       " 270  149.0250    2013       7      COL    NaN    NaN\n",
       " 271  309.0680    2013       8      COL    NaN    NaN\n",
       " 272  220.7070    2013       9      COL    NaN    NaN\n",
       " 273  176.3320    2013      10      COL    NaN    NaN\n",
       " 274  192.6870    2013      11      COL    NaN    NaN\n",
       " 275  113.8580    2013      12      COL    NaN    NaN\n",
       " 276   89.1602    2014       1      COL    NaN    NaN\n",
       " 277  111.7820    2014       2      COL    NaN    NaN\n",
       " 278  149.6340    2014       3      COL    NaN    NaN\n",
       " 279  183.5800    2014       4      COL    NaN    NaN\n",
       " 280  233.4160    2014       5      COL    NaN    NaN\n",
       " 281  215.4540    2014       6      COL    NaN    NaN\n",
       " 282  219.8450    2014       7      COL    NaN    NaN\n",
       " 283  252.3560    2014       8      COL    NaN    NaN\n",
       " 284  188.1280    2014       9      COL    NaN    NaN\n",
       " 285  230.3030    2014      10      COL    NaN    NaN\n",
       " 286  238.2620    2014      11      COL    NaN    NaN\n",
       " 287  181.0480    2014      12      COL    NaN    NaN\n",
       " 288  148.6860    2015       1      COL    NaN    NaN\n",
       " 289  105.0790    2015       2      COL    NaN    NaN\n",
       " 290  266.6620    2015       3      COL    NaN    NaN\n",
       " 291  228.5930    2015       4      COL    NaN    NaN\n",
       " 292  200.8960    2015       5      COL    NaN    NaN\n",
       " 293  264.8430    2015       6      COL    NaN    NaN\n",
       " 294  259.0020    2015       7      COL    NaN    NaN\n",
       " 295  189.6000    2015       8      COL    NaN    NaN\n",
       " 296  138.0360    2015       9      COL    NaN    NaN\n",
       " 297  157.3480    2015      10      COL    NaN    NaN\n",
       " 298  173.8600    2015      11      COL    NaN    NaN\n",
       " 299   96.3039    2015      12      COL    NaN    NaN\n",
       " \n",
       " [300 rows x 6 columns]]"
      ]
     },
     "execution_count": 33,
     "metadata": {},
     "output_type": "execute_result"
    }
   ],
   "source": [
    "RainfallData"
   ]
  },
  {
   "cell_type": "code",
   "execution_count": null,
   "metadata": {},
   "outputs": [],
   "source": []
  },
  {
   "cell_type": "code",
   "execution_count": null,
   "metadata": {},
   "outputs": [],
   "source": []
  },
  {
   "cell_type": "code",
   "execution_count": null,
   "metadata": {},
   "outputs": [],
   "source": []
  },
  {
   "cell_type": "code",
   "execution_count": null,
   "metadata": {},
   "outputs": [],
   "source": []
  }
 ],
 "metadata": {
  "kernelspec": {
   "display_name": "Python 3",
   "language": "python",
   "name": "python3"
  },
  "language_info": {
   "codemirror_mode": {
    "name": "ipython",
    "version": 3
   },
   "file_extension": ".py",
   "mimetype": "text/x-python",
   "name": "python",
   "nbconvert_exporter": "python",
   "pygments_lexer": "ipython3",
   "version": "3.7.1"
  }
 },
 "nbformat": 4,
 "nbformat_minor": 2
}
